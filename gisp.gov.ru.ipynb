{
 "cells": [
  {
   "cell_type": "code",
   "execution_count": 9,
   "metadata": {},
   "outputs": [
    {
     "name": "stdout",
     "output_type": "stream",
     "text": [
      "Requirement already satisfied: BeautifulSoup4 in c:\\anaconda3\\lib\\site-packages (4.6.0)\n"
     ]
    },
    {
     "name": "stderr",
     "output_type": "stream",
     "text": [
      "distributed 1.21.8 requires msgpack, which is not installed.\n"
     ]
    }
   ],
   "source": [
    "!pip install BeautifulSoup4"
   ]
  },
  {
   "cell_type": "code",
   "execution_count": 10,
   "metadata": {},
   "outputs": [
    {
     "name": "stdout",
     "output_type": "stream",
     "text": [
      "Requirement already satisfied: lxml in c:\\anaconda3\\lib\\site-packages (4.2.1)\n"
     ]
    },
    {
     "name": "stderr",
     "output_type": "stream",
     "text": [
      "distributed 1.21.8 requires msgpack, which is not installed.\n"
     ]
    }
   ],
   "source": [
    "!pip install lxml"
   ]
  },
  {
   "cell_type": "code",
   "execution_count": 1,
   "metadata": {},
   "outputs": [],
   "source": [
    "from bs4 import BeautifulSoup\n",
    "import csv\n",
    "import requests\n",
    "import lxml\n",
    "from datetime import datetime, timedelta"
   ]
  },
  {
   "cell_type": "code",
   "execution_count": 2,
   "metadata": {},
   "outputs": [],
   "source": [
    "RU_MONTH_VALUES = {\n",
    "    'января': '01',\n",
    "    'февраля': '02',\n",
    "    'марта': '03',\n",
    "    'апреля': '04',\n",
    "    'мая': '05',\n",
    "    'июня': '06',\n",
    "    'июля': '07',\n",
    "    'августа': '08',\n",
    "    'сентября': '09',\n",
    "    'октября': '10',\n",
    "    'ноября': '11',\n",
    "    'декабря': '12',\n",
    "}\n",
    "\n",
    "\n",
    "def int_value_from_ru_month(date_str):\n",
    "    for k, v in RU_MONTH_VALUES.items():\n",
    "        date_str = date_str.replace(k, str(v))\n",
    "    return date_str"
   ]
  },
  {
   "cell_type": "code",
   "execution_count": 3,
   "metadata": {},
   "outputs": [
    {
     "name": "stdout",
     "output_type": "stream",
     "text": [
      "{'name': 'Приглашаем к участию в Первой промышленной премии OEE Award! Впервые в России проходит конкурс проектов по цифровизации предприятий – премия OEE Award. Премия является частью Промышленного марафона «Эффективное производство 4.0».', 'url': 'https://gisp.gov.ru/news/8997721/', 'date': '21 Июня 2018'}\n",
      "{'name': 'УТВЕРЖДЕНЫ НОВЫЕ ПРАВИЛА ВСЕРОССИЙСКОГО КОНКУРСА \"ОРГАНИЗАЦИЯ ОПК ВЫСОКОЙ СОЦИАЛЬНО-ЭКОНОМИЧЕСКОЙ ЭФФЕКТИВНОСТИ\"', 'url': 'https://gisp.gov.ru/news/8307243/', 'date': '24 Октября 2017'}\n",
      "{'name': 'МИНПРОМТОРГ РОССИИ ОБЪЯВЛЯЕТ О НАЧАЛЕ КОНКУРСНОГО ОТБОРА НА ПРАВО ПОЛУЧЕНИЯ СУБСИДИЙ ОРГАНИЗАЦИЯМИ РЕАБИЛИТАЦИОННОЙ ИНДУСТРИИ', 'url': 'https://gisp.gov.ru/news/8292918/', 'date': '5 Октября 2017'}\n"
     ]
    }
   ],
   "source": [
    "days = timedelta(300)\n",
    "deadline = datetime.now()-days\n",
    "    \n",
    "def get_html(url):\n",
    "    r = requests.get(url)\n",
    "    return r.text\n",
    " \n",
    "def get_total_pages(html):\n",
    "    soup = BeautifulSoup(html, 'lxml')\n",
    "    divs = soup.find('div', class_='box-articles')\n",
    "    fonts = divs.find_all('font', class_='text')[1]\n",
    "    pages = fonts.find_all('a')[-1].get('href')\n",
    "    total_pages = pages.split('=')[1].split('&')[0]\n",
    "    return int(total_pages)\n",
    " \n",
    "#  def write_csv(data):\n",
    "#     with open('avito.csv', 'a') as f:\n",
    "#         writer = csv.writer(f)\n",
    "#         writer.writerow((data['title'],\n",
    "#                          data['price'],\n",
    "#                          data['metro'],\n",
    "#                          data['url']))\n",
    " \n",
    " \n",
    "def get_page_data(html):\n",
    "    \n",
    "    soup = BeautifulSoup(html, 'lxml')\n",
    "    news = soup.find_all('div', class_='item')\n",
    "    for new in news:\n",
    "        name = new.find('div', class_='iname').getText() \n",
    "        url = \"https://gisp.gov.ru\" + new.find('div', class_='iname').find('a').get('href')\n",
    "        date_str = new.find('div', class_='date').getText()\n",
    "        date = int_value_from_ru_month(date_str.lower())\n",
    "        \n",
    "        date = datetime.strptime(date, '%d %m %Y')\n",
    "        if date > deadline:\n",
    "#             print(date, deadline)\n",
    "            if \"конкурс\" in name.lower():\n",
    "                data = {'name':name,\n",
    "                    'url':url,\n",
    "                    'date': date_str}\n",
    "                print(data)\n",
    "        else:\n",
    "            return False\n",
    "    return True\n",
    " \n",
    " \n",
    "def main():\n",
    "    base_url = \"https://gisp.gov.ru/news/\"\n",
    "    page_part = \"?PAGEN_1=\"\n",
    " \n",
    "    \n",
    "    total_pages = get_total_pages(get_html(base_url))\n",
    "    fl = True\n",
    "    for i in range(1, total_pages):\n",
    "        url_gen = base_url + page_part + str(i)\n",
    "        html = get_html(url_gen)\n",
    "        fl = get_page_data(html)\n",
    "        if fl==False:\n",
    "            break\n",
    "#         print(i)\n",
    "\n",
    " \n",
    "if __name__ == '__main__':\n",
    "    main()"
   ]
  },
  {
   "cell_type": "code",
   "execution_count": null,
   "metadata": {},
   "outputs": [],
   "source": []
  }
 ],
 "metadata": {
  "kernelspec": {
   "display_name": "Python 3",
   "language": "python",
   "name": "python3"
  },
  "language_info": {
   "codemirror_mode": {
    "name": "ipython",
    "version": 3
   },
   "file_extension": ".py",
   "mimetype": "text/x-python",
   "name": "python",
   "nbconvert_exporter": "python",
   "pygments_lexer": "ipython3",
   "version": "3.6.4"
  }
 },
 "nbformat": 4,
 "nbformat_minor": 2
}
