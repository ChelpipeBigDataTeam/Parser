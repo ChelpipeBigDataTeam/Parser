{
 "cells": [
  {
   "cell_type": "code",
   "execution_count": 1,
   "metadata": {},
   "outputs": [
    {
     "name": "stdout",
     "output_type": "stream",
     "text": [
      "Collecting BeautifulSoup4\n",
      "  Downloading https://files.pythonhosted.org/packages/9e/d4/10f46e5cfac773e22707237bfcd51bbffeaf0a576b0a847ec7ab15bd7ace/beautifulsoup4-4.6.0-py3-none-any.whl (86kB)\n",
      "\u001b[K    100% |████████████████████████████████| 92kB 2.3MB/s ta 0:00:011\n",
      "\u001b[?25hInstalling collected packages: BeautifulSoup4\n",
      "Successfully installed BeautifulSoup4-4.6.0\n",
      "\u001b[33mYou are using pip version 9.0.1, however version 10.0.1 is available.\n",
      "You should consider upgrading via the 'pip install --upgrade pip' command.\u001b[0m\n"
     ]
    }
   ],
   "source": [
    "!pip install BeautifulSoup4"
   ]
  },
  {
   "cell_type": "code",
   "execution_count": 2,
   "metadata": {},
   "outputs": [
    {
     "name": "stdout",
     "output_type": "stream",
     "text": [
      "Collecting lxml\n",
      "  Downloading https://files.pythonhosted.org/packages/fe/71/640d6b3f911184bbd3b92b78478b770630f07d58f3c3bcd67d244bd616d1/lxml-4.2.2-cp36-cp36m-manylinux1_x86_64.whl (5.9MB)\n",
      "\u001b[K    100% |████████████████████████████████| 5.9MB 111kB/s eta 0:00:01\n",
      "\u001b[?25hInstalling collected packages: lxml\n",
      "Successfully installed lxml-4.2.2\n",
      "\u001b[33mYou are using pip version 9.0.1, however version 10.0.1 is available.\n",
      "You should consider upgrading via the 'pip install --upgrade pip' command.\u001b[0m\n"
     ]
    }
   ],
   "source": [
    "!pip install lxml"
   ]
  },
  {
   "cell_type": "code",
   "execution_count": 3,
   "metadata": {},
   "outputs": [],
   "source": [
    "from bs4 import BeautifulSoup\n",
    "import csv\n",
    "import requests\n",
    "import lxml\n",
    "from datetime import datetime, timedelta"
   ]
  },
  {
   "cell_type": "code",
   "execution_count": 13,
   "metadata": {},
   "outputs": [
    {
     "name": "stdout",
     "output_type": "stream",
     "text": [
      "{'name': 'Опубликованы сведения о соответствии/несоответствии участников конкурса, представленных ими заявок на участие в конкурсе и предлагаемых к реализации проектов установленным требованиям и допуске/недопуске представленных заявок на участие в конкурсе', 'url': 'http://www.p218.ru/k2/item/512-xplus', 'date': '07.12.2017'}\n",
      "{'name': 'Опубликованы сведения о поступивших заявках на участие в конкурсе десятой очереди по отбору организаций на право получения субсидий', 'url': 'http://www.p218.ru/k2/item/510-perechen', 'date': '03.11.2017'}\n",
      "{'name': 'Заседание конкурсной комиссии по вскрытию конвертов', 'url': 'http://www.p218.ru/k2/item/507-zaskon', 'date': '25.10.2017'}\n",
      "{'name': 'Конкурс 10 очереди - отличительные особенности', 'url': 'http://www.p218.ru/k2/item/505-otl218', 'date': '17.10.2017'}\n",
      "{'name': 'Объявлен конкурс', 'url': 'http://www.p218.ru/k2/item/500-kon10', 'date': '29.09.2017'}\n",
      "{'name': 'Опубликованы сведения о соответствии/несоответствии участников конкурса, представленных ими заявок на участие в конкурсе и предлагаемых к реализации проектов установленным требованиям и допуске/недопуске представленных заявок на участие в конкурсе', 'url': 'http://www.p218.ru/k2/item/457-swed222', 'date': '03.03.2017'}\n",
      "{'name': 'Опубликованы сведения о поступивших заявках на участие в конкурсе девятой очереди по отбору организаций на право получения субсидий', 'url': 'http://www.p218.ru/k2/item/455-analitica2017', 'date': '26.02.2017'}\n"
     ]
    }
   ],
   "source": [
    "days = timedelta(500)\n",
    "deadline = datetime.now()-days\n",
    "    \n",
    "def get_html(url):\n",
    "    r = requests.get(url)\n",
    "    return r.text\n",
    " \n",
    "def get_total_pages(html):\n",
    "    soup = BeautifulSoup(html, 'lxml')\n",
    "    divs = soup.find('li', class_='pagination-end')\n",
    "    pages = divs.find('a').get('href')\n",
    "    total_pages = pages.split('=')[1]\n",
    "    return int(int(total_pages)/20)\n",
    "\n",
    " \n",
    "def get_page_data(html):\n",
    "    \n",
    "    soup = BeautifulSoup(html, 'lxml')\n",
    "    news = soup.find_all('div', class_='itemContainer itemContainerLast')\n",
    "    for new in news:\n",
    "        try:\n",
    "            name = new.find('a', class_='itemImage_news').get('title')\n",
    "            url = \"http://www.p218.ru\" + new.find('a', class_='itemImage_news').get('href')\n",
    "            date_str = new.find('time').get_text().replace('\\t', '').replace('\\n', '').replace(' ', '')\n",
    "        except Exception:\n",
    "            name = new.find('div', class_='itemTitle_news').find('a').getText()\n",
    "            url = \"http://www.p218.ru\" + new.find('div', class_='itemTitle_news').find('a').get('href')\n",
    "            date_str = new.find('time').get_text().replace('\\t', '').replace('\\n', '').replace(' ', '')\n",
    "        date = datetime.strptime(date_str, '%d.%m.%Y')\n",
    "        \n",
    "        if date > deadline:\n",
    "#             print(date, deadline)\n",
    "            if \"конкурс\" in str(name).lower():\n",
    "                data = {'name':name,\n",
    "                        'url':url,\n",
    "                        'date':date_str}\n",
    "                print(data)\n",
    "        else:\n",
    "            return False\n",
    "    return True\n",
    " \n",
    " \n",
    "def main():\n",
    "    base_url = \"http://www.p218.ru/k2\"\n",
    "    page_part = \"?start=\"\n",
    " \n",
    "    total_pages = get_total_pages(get_html(base_url))\n",
    "\n",
    "    fl = True\n",
    "    for i in range(0, total_pages+1):\n",
    "        url_gen = base_url + page_part + str(i*20)\n",
    "        html = get_html(url_gen)\n",
    "        fl = get_page_data(html)\n",
    "        if fl==False:\n",
    "            break\n",
    "#         print(i*20)\n",
    "\n",
    " \n",
    "if __name__ == '__main__':\n",
    "    main()"
   ]
  },
  {
   "cell_type": "code",
   "execution_count": null,
   "metadata": {},
   "outputs": [],
   "source": []
  }
 ],
 "metadata": {
  "kernelspec": {
   "display_name": "Python 3",
   "language": "python",
   "name": "python3"
  },
  "language_info": {
   "codemirror_mode": {
    "name": "ipython",
    "version": 3
   },
   "file_extension": ".py",
   "mimetype": "text/x-python",
   "name": "python",
   "nbconvert_exporter": "python",
   "pygments_lexer": "ipython3",
   "version": "3.6.4"
  }
 },
 "nbformat": 4,
 "nbformat_minor": 2
}
