{
 "cells": [
  {
   "cell_type": "code",
   "execution_count": 1,
   "metadata": {},
   "outputs": [],
   "source": [
    "import smtplib"
   ]
  },
  {
   "cell_type": "code",
   "execution_count": 5,
   "metadata": {},
   "outputs": [
    {
     "name": "stdout",
     "output_type": "stream",
     "text": [
      "1\n",
      "2\n"
     ]
    }
   ],
   "source": [
    "gmail_user = 'petrivanov07939@gmail.com'  \n",
    "gmail_password = 'ZXcv1234'\n",
    "\n",
    "sent_from = gmail_user  \n",
    "to = ['Anastasiya.Mittseva@chelpipe.ru']  \n",
    "subject = 'OMG Super Important Message'  \n",
    "body = 'Hey, whats up!!!!!!!!!!?\\n\\n- You'\n",
    "\n",
    "email_text = \"\"\"\\  \n",
    "From: %s  \n",
    "To: %s  \n",
    "Subject: %s\n",
    "\n",
    "%s\n",
    "\"\"\" % (sent_from, \", \".join(to), subject, body)\n",
    "\n",
    " \n",
    "print(1)\n",
    "server = smtplib.SMTP_SSL('smtp.gmail.com', 465)\n",
    "print(2)\n",
    "server.login(gmail_user, gmail_password)\n",
    "server.sendmail(sent_from, to, email_text)\n",
    "server.close()\n",
    "\n"
   ]
  },
  {
   "cell_type": "code",
   "execution_count": null,
   "metadata": {},
   "outputs": [],
   "source": []
  }
 ],
 "metadata": {
  "kernelspec": {
   "display_name": "Python 3",
   "language": "python",
   "name": "python3"
  },
  "language_info": {
   "codemirror_mode": {
    "name": "ipython",
    "version": 3
   },
   "file_extension": ".py",
   "mimetype": "text/x-python",
   "name": "python",
   "nbconvert_exporter": "python",
   "pygments_lexer": "ipython3",
   "version": "3.6.5"
  }
 },
 "nbformat": 4,
 "nbformat_minor": 2
}
