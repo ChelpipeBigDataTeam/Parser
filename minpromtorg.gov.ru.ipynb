{
 "cells": [
  {
   "cell_type": "code",
   "execution_count": 6,
   "metadata": {},
   "outputs": [
    {
     "name": "stdout",
     "output_type": "stream",
     "text": [
      "Collecting BeautifulSoup4\n",
      "  Downloading https://files.pythonhosted.org/packages/9e/d4/10f46e5cfac773e22707237bfcd51bbffeaf0a576b0a847ec7ab15bd7ace/beautifulsoup4-4.6.0-py3-none-any.whl (86kB)\n",
      "\u001b[K    100% |████████████████████████████████| 92kB 2.3MB/s ta 0:00:011\n",
      "\u001b[?25hInstalling collected packages: BeautifulSoup4\n",
      "Successfully installed BeautifulSoup4-4.6.0\n",
      "\u001b[33mYou are using pip version 9.0.1, however version 10.0.1 is available.\n",
      "You should consider upgrading via the 'pip install --upgrade pip' command.\u001b[0m\n"
     ]
    }
   ],
   "source": [
    "!pip install BeautifulSoup4"
   ]
  },
  {
   "cell_type": "code",
   "execution_count": 7,
   "metadata": {},
   "outputs": [
    {
     "name": "stdout",
     "output_type": "stream",
     "text": [
      "Collecting lxml\n",
      "  Downloading https://files.pythonhosted.org/packages/d1/81/5a3e70c8adc20fb295a2f4c9fdf09af8295c7a00ccec6ee3d31084cbf272/lxml-4.2.3-cp36-cp36m-manylinux1_x86_64.whl (5.9MB)\n",
      "\u001b[K    100% |████████████████████████████████| 5.9MB 111kB/s eta 0:00:01\n",
      "\u001b[?25hInstalling collected packages: lxml\n",
      "Successfully installed lxml-4.2.3\n",
      "\u001b[33mYou are using pip version 9.0.1, however version 10.0.1 is available.\n",
      "You should consider upgrading via the 'pip install --upgrade pip' command.\u001b[0m\n"
     ]
    }
   ],
   "source": [
    "!pip install lxml"
   ]
  },
  {
   "cell_type": "code",
   "execution_count": 8,
   "metadata": {},
   "outputs": [],
   "source": [
    "from bs4 import BeautifulSoup\n",
    "import csv\n",
    "import requests\n",
    "import lxml\n",
    "from datetime import datetime, timedelta\n",
    "import urllib"
   ]
  },
  {
   "cell_type": "code",
   "execution_count": 9,
   "metadata": {},
   "outputs": [],
   "source": [
    "RU_MONTH_VALUES = {\n",
    "    'января': '01',\n",
    "    'февраля': '02',\n",
    "    'марта': '03',\n",
    "    'апреля': '04',\n",
    "    'мая': '05',\n",
    "    'июня': '06',\n",
    "    'июля': '07',\n",
    "    'августа': '08',\n",
    "    'сентября': '09',\n",
    "    'октября': '10',\n",
    "    'ноября': '11',\n",
    "    'декабря': '12',\n",
    "}\n",
    "\n",
    "\n",
    "def int_value_from_ru_month(date_str):\n",
    "    for k, v in RU_MONTH_VALUES.items():\n",
    "        date_str = date_str.replace(k, str(v))\n",
    "    return date_str"
   ]
  },
  {
   "cell_type": "code",
   "execution_count": 26,
   "metadata": {},
   "outputs": [
    {
     "name": "stdout",
     "output_type": "stream",
     "text": [
      "543\n",
      "http://minpromtorg.gov.ru/press-centre/news/?from_18=&from_18=1\n",
      "1\n",
      "http://minpromtorg.gov.ru/press-centre/news/?from_18=&from_18=2\n",
      "2\n",
      "http://minpromtorg.gov.ru/press-centre/news/?from_18=&from_18=3\n",
      "3\n",
      "http://minpromtorg.gov.ru/press-centre/news/?from_18=&from_18=4\n",
      "{'name': ' Открыт прием заявок на Конкурс биомедицинских проектов «Стартап-ралли 2018», организованный при поддержке Минпромторга России ', 'url': 'http://minpromtorg.gov.ru/press-centre/news/#!otkryt_priem_zayavok_na_konkurs_biomedicinskih_proektov_startapralli_2018_organizovannyy_pri_podderzhke_minpromtorga_rossii', 'date': '13 июня 2018'}\n",
      "4\n",
      "http://minpromtorg.gov.ru/press-centre/news/?from_18=&from_18=5\n",
      "5\n",
      "http://minpromtorg.gov.ru/press-centre/news/?from_18=&from_18=6\n",
      "6\n",
      "http://minpromtorg.gov.ru/press-centre/news/?from_18=&from_18=7\n",
      "{'name': ' Минпромторг России приглашает к участию в специальной номинации конкурса «Проектный Олимп» ', 'url': 'http://minpromtorg.gov.ru/press-centre/news/#!minpromtorg_rossii_priglashaet_k_uchastiyu_v_specialnoy_nominacii_konkursa_proektnyy_olimp', 'date': '06 июня 2018'}\n",
      "7\n",
      "http://minpromtorg.gov.ru/press-centre/news/?from_18=&from_18=8\n",
      "8\n",
      "http://minpromtorg.gov.ru/press-centre/news/?from_18=&from_18=9\n",
      "9\n",
      "http://minpromtorg.gov.ru/press-centre/news/?from_18=&from_18=10\n",
      "10\n",
      "http://minpromtorg.gov.ru/press-centre/news/?from_18=&from_18=11\n",
      "11\n",
      "http://minpromtorg.gov.ru/press-centre/news/?from_18=&from_18=12\n",
      "12\n",
      "http://minpromtorg.gov.ru/press-centre/news/?from_18=&from_18=13\n",
      "13\n",
      "http://minpromtorg.gov.ru/press-centre/news/?from_18=&from_18=14\n",
      "{'name': ' Минпромторг проводит конкурс-рейтинг российских организаций индустрии детских товаров «Сделано для детства» ', 'url': 'http://minpromtorg.gov.ru/press-centre/news/#!minpromtorg_provodit_konkursreyting_rossiyskih_organizaciy_industrii_detskih_tovarov_sdelano_dlya_detstva', 'date': '15 мая 2018'}\n",
      "14\n",
      "http://minpromtorg.gov.ru/press-centre/news/?from_18=&from_18=15\n",
      "15\n",
      "http://minpromtorg.gov.ru/press-centre/news/?from_18=&from_18=16\n",
      "{'name': ' В Минпромторге наградили победителей Всероссийского конкурса на звание «Организация ОПК высокой социально-экономической эффективности» ', 'url': 'http://minpromtorg.gov.ru/press-centre/news/#!v_minpromtorge_nagradili_pobediteley_vserossiyskogo_konkursa_na_zvanie_organizaciya_opk_vysokoy_socialnoekonomicheskoy_effektivnosti', 'date': '04 мая 2018'}\n",
      "16\n",
      "http://minpromtorg.gov.ru/press-centre/news/?from_18=&from_18=17\n",
      "17\n",
      "http://minpromtorg.gov.ru/press-centre/news/?from_18=&from_18=18\n",
      "{'name': ' Минпромторг проводит первый всероссийский конкурс «Торговля России» ', 'url': 'http://minpromtorg.gov.ru/press-centre/news/#!minpromtorg_provodit_pervyy_vserossiyskiy_konkurs_torgovlya_rossii', 'date': '24 апреля 2018'}\n",
      "18\n",
      "http://minpromtorg.gov.ru/press-centre/news/?from_18=&from_18=19\n",
      "19\n",
      "http://minpromtorg.gov.ru/press-centre/news/?from_18=&from_18=20\n",
      "20\n",
      "http://minpromtorg.gov.ru/press-centre/news/?from_18=&from_18=21\n",
      "21\n",
      "http://minpromtorg.gov.ru/press-centre/news/?from_18=&from_18=22\n",
      "22\n",
      "http://minpromtorg.gov.ru/press-centre/news/?from_18=&from_18=23\n",
      "23\n",
      "http://minpromtorg.gov.ru/press-centre/news/?from_18=&from_18=24\n",
      "24\n",
      "http://minpromtorg.gov.ru/press-centre/news/?from_18=&from_18=25\n",
      "25\n",
      "http://minpromtorg.gov.ru/press-centre/news/?from_18=&from_18=26\n",
      "{'name': ' В 2018 году конкурс «Проектный Олимп» отметит первый юбилей ', 'url': 'http://minpromtorg.gov.ru/press-centre/news/#!v_2018_godu_konkurs_proektnyy_olimp_otmetit_pervyy_yubiley', 'date': '03 апреля 2018'}\n",
      "26\n",
      "http://minpromtorg.gov.ru/press-centre/news/?from_18=&from_18=27\n",
      "27\n",
      "http://minpromtorg.gov.ru/press-centre/news/?from_18=&from_18=28\n",
      "28\n",
      "http://minpromtorg.gov.ru/press-centre/news/?from_18=&from_18=29\n"
     ]
    }
   ],
   "source": [
    "days = timedelta(100)\n",
    "deadline = datetime.now()-days\n",
    "# proxies = {\n",
    "#     'https': 'https://'+urllib.parse.quote('CHTPZ0\\Anastasiya.Mittseva')+':'+\\\n",
    "#     urllib.parse.quote('Lifeiswonderful28')+'@'+urllib.parse.quote('proxy.lan')+':8080',\n",
    "#     'http': 'http://'+urllib.parse.quote('CHTPZ0\\Anastasiya.Mittseva')+':'+\\\n",
    "#     urllib.parse.quote('Lifeiswonderful28')+'@'+urllib.parse.quote('proxy.lan')+':8080',\n",
    "# #     'http': 'http://CHTPZ0/Yuliya.Lapteva:пароль@10.74.1.16:8080',\n",
    "# }   \n",
    "   \n",
    "def get_html(url):\n",
    "    r = requests.get(url)\n",
    "    return r.text\n",
    " \n",
    "def get_total_pages(html):\n",
    "    soup = BeautifulSoup(html, 'lxml')\n",
    "    divs = soup.find('div', class_='navigation')\n",
    "    pages = divs.find_all('a', class_='a2')[-1].get('href')\n",
    "    total_pages = pages.split('=')[1]\n",
    "    return int(total_pages)\n",
    "\n",
    " \n",
    "def get_page_data(html):\n",
    "    \n",
    "    soup = BeautifulSoup(html, 'lxml')\n",
    "    news = soup.find_all('li', class_='news_list_item')\n",
    "    for new in news:\n",
    "        name = new.find('div', class_='news_list-ttl').getText()\n",
    "        url = \"http://minpromtorg.gov.ru\" + new.find('a').get('href')\n",
    "        date_str = new.find('span', class_='main-block-date').getText()\n",
    "        date = int_value_from_ru_month(date_str.lower())\n",
    "        \n",
    "        date = datetime.strptime(date, '%d %m %Y')\n",
    "        \n",
    "        if date > deadline:\n",
    "#             print(date, deadline)\n",
    "            if \"конкурс\" in str(name).lower():\n",
    "                data = {'name':name,\n",
    "                        'url':url,\n",
    "                        'date':date_str}\n",
    "                print(data)\n",
    "        else:\n",
    "            return False\n",
    "    return True\n",
    " \n",
    " \n",
    "def main():\n",
    "    base_url = \"http://minpromtorg.gov.ru/press-centre/news/\"\n",
    "    page_part = \"?from_18=&from_18=\"\n",
    " \n",
    "    total_pages = get_total_pages(get_html(base_url))\n",
    "    print(total_pages)\n",
    "    fl = True\n",
    "    for i in range(1, total_pages):\n",
    "        url_gen = base_url + page_part + str(i)\n",
    "#         print(url_gen)\n",
    "        html = get_html(url_gen)\n",
    "        fl = get_page_data(html)\n",
    "        if fl==False:\n",
    "            break\n",
    "#         print(i)\n",
    "\n",
    " \n",
    "if __name__ == '__main__':\n",
    "    main()"
   ]
  },
  {
   "cell_type": "code",
   "execution_count": null,
   "metadata": {},
   "outputs": [],
   "source": []
  }
 ],
 "metadata": {
  "kernelspec": {
   "display_name": "Python 3",
   "language": "python",
   "name": "python3"
  },
  "language_info": {
   "codemirror_mode": {
    "name": "ipython",
    "version": 3
   },
   "file_extension": ".py",
   "mimetype": "text/x-python",
   "name": "python",
   "nbconvert_exporter": "python",
   "pygments_lexer": "ipython3",
   "version": "3.6.4"
  }
 },
 "nbformat": 4,
 "nbformat_minor": 2
}
